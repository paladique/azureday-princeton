{
 "cells": [
  {
   "cell_type": "markdown",
   "metadata": {},
   "source": [
    "## Logistic Regression - Lesson 4\n",
    "\n",
    "Load up required libraries and dataset. Convert the data to a dataframe containing a subset of the data:"
   ]
  },
  {
   "cell_type": "code",
   "execution_count": null,
   "metadata": {},
   "outputs": [],
   "source": [
    "import pandas as pd\n",
    "import numpy as np\n",
    "\n",
    "full_pumpkins = pd.read_csv('data/US-pumpkins.csv')\n",
    "\n",
    "full_pumpkins.head()"
   ]
  },
  {
   "cell_type": "code",
   "execution_count": null,
   "metadata": {},
   "outputs": [],
   "source": [
    "# Select the columns we want to use\n",
    "columns_to_select = ['City Name','Package','Variety', 'Origin','Item Size', 'Color']\n",
    "pumpkins = full_pumpkins.loc[:, columns_to_select]\n",
    "\n",
    "# Drop rows with missing values\n",
    "pumpkins.dropna(inplace=True)\n",
    "\n",
    "# Export to file\n",
    "pumpkins.to_csv('data/US-pumpkins-clean.csv')\n",
    "\n",
    "pumpkins.head()"
   ]
  },
  {
   "attachments": {},
   "cell_type": "markdown",
   "metadata": {},
   "source": [
    "# Uploading data to Azure\n",
    "We've now cleaned our data, let's upload it to the cloud with the Azure Cli. We'll use a script to upload the `US-pumpkins-clean.csv` with the cli. \n",
    "\n",
    "The [script](create-blob.sh) will:\n",
    "- Create a resource group named `codespace-workshop-rg-#####`\n",
    "- Create a storage account named `csblobstg#####`\n",
    "- Create a blob container named `data` (_note: containers in this context are like \"folders\"_ )\n",
    "- Upload the `US-pumpkins-clean.csv` file to the data container\n",
    "\n",
    "It will output the name of your storage \n",
    "\n",
    "1. In the terminal (make sure you're in your virtual environment) run the following:\n",
    "`az login --use-device-code`\n",
    "\n",
    "2. Follow the authentication instructions\n",
    "\n",
    "3. Return to the terminal and run: \n",
    "`chmod +x ./data-science-codespaces/create-blob.sh`\n",
    "\n",
    "4. Run the follwing script:\n",
    "`./data-science-codespaces/create-blob.sh`\n",
    "\n",
    "5. If prompted, select `yes`\n"
   ]
  },
  {
   "cell_type": "code",
   "execution_count": null,
   "metadata": {},
   "outputs": [],
   "source": [
    "from azure.storage.blob import BlobServiceClient\n",
    "import pandas as pd\n",
    "import os\n",
    "\n",
    "STORAGEACCOUNTURL= os.environ['STORAGEACCOUNTURL']\n",
    "STORAGEACCOUNTKEY= os.environ['STORAGEACCOUNTKEY']\n",
    "LOCALFILENAME= \"US-pumpkins-clean.csv\"\n",
    "CONTAINERNAME= \"data\"\n",
    "BLOBNAME= \"US-pumpkins-clean.csv\"\n",
    "\n",
    "#download from blob\n",
    "t1=time.time()\n",
    "blob_service_client_instance = BlobServiceClient(account_url=STORAGEACCOUNTURL, credential=STORAGEACCOUNTKEY)\n",
    "blob_client_instance = blob_service_client_instance.get_blob_client(CONTAINERNAME, BLOBNAME, snapshot=None)\n",
    "with open(LOCALFILENAME, \"wb\") as my_blob:\n",
    "    blob_data = blob_client_instance.download_blob()\n",
    "    blob_data.readinto(my_blob)\n",
    "t2=time.time()\n",
    "print((\"It takes %s seconds to download \"+BLOBNAME) % (t2 - t1))"
   ]
  },
  {
   "attachments": {},
   "cell_type": "markdown",
   "metadata": {},
   "source": [
    "# Let's have a look to our data!\n",
    "\n",
    "By visualising it with Seaborn"
   ]
  },
  {
   "cell_type": "code",
   "execution_count": null,
   "metadata": {},
   "outputs": [],
   "source": [
    "import seaborn as sns\n",
    "# Specify colors for each values of the hue variable\n",
    "palette = {\n",
    "    'ORANGE': 'orange',\n",
    "    'WHITE': 'wheat',\n",
    "}\n",
    "# Plot a bar plot to visualize how many pumpkins of each variety are orange or white\n",
    "sns.catplot(\n",
    "    data=pumpkins, y=\"Variety\", hue=\"Color\", kind=\"count\",\n",
    "    palette=palette, \n",
    ")"
   ]
  },
  {
   "attachments": {},
   "cell_type": "markdown",
   "metadata": {},
   "source": [
    "# Data pre-processing\n",
    "\n",
    "Let's encode features and labels to better plot the data and train the model"
   ]
  },
  {
   "cell_type": "code",
   "execution_count": null,
   "metadata": {},
   "outputs": [],
   "source": [
    "# Let's look at the different values of the 'Item Size' column\n",
    "pumpkins['Item Size'].unique()"
   ]
  },
  {
   "cell_type": "code",
   "execution_count": null,
   "metadata": {},
   "outputs": [],
   "source": [
    "from sklearn.preprocessing import OrdinalEncoder\n",
    "# Encode the 'Item Size' column using ordinal encoding\n",
    "item_size_categories = [['sml', 'med', 'med-lge', 'lge', 'xlge', 'jbo', 'exjbo']]\n",
    "ordinal_features = ['Item Size']\n",
    "ordinal_encoder = OrdinalEncoder(categories=item_size_categories)"
   ]
  },
  {
   "cell_type": "code",
   "execution_count": null,
   "metadata": {},
   "outputs": [],
   "source": [
    "from sklearn.preprocessing import OneHotEncoder\n",
    "# Encode all the other features using one-hot encoding\n",
    "categorical_features = ['City Name', 'Package', 'Variety', 'Origin']\n",
    "categorical_encoder = OneHotEncoder(sparse_output=False)"
   ]
  },
  {
   "cell_type": "code",
   "execution_count": null,
   "metadata": {},
   "outputs": [],
   "source": [
    "from sklearn.compose import ColumnTransformer\n",
    "ct = ColumnTransformer(transformers=[\n",
    "     ('ord', ordinal_encoder, ordinal_features),\n",
    "     ('cat', categorical_encoder, categorical_features)\n",
    "     ])\n",
    "# Get the encoded features as a pandas DataFrame\n",
    "ct.set_output(transform='pandas')\n",
    "encoded_features = ct.fit_transform(pumpkins)\n",
    "encoded_features.head()"
   ]
  },
  {
   "cell_type": "code",
   "execution_count": null,
   "metadata": {},
   "outputs": [],
   "source": [
    "from sklearn.preprocessing import LabelEncoder\n",
    "# Encode the 'Color' column using label encoding\n",
    "label_encoder = LabelEncoder()\n",
    "encoded_label = label_encoder.fit_transform(pumpkins['Color'])\n",
    "encoded_pumpkins = encoded_features.assign(Color=encoded_label)\n",
    "encoded_pumpkins.head()"
   ]
  },
  {
   "cell_type": "code",
   "execution_count": null,
   "metadata": {},
   "outputs": [],
   "source": [
    "# Let's look at the mapping between the encoded values and the original values\n",
    "list(label_encoder.inverse_transform([0, 1]))"
   ]
  },
  {
   "attachments": {},
   "cell_type": "markdown",
   "metadata": {},
   "source": [
    "# Analysing relationships between features and label"
   ]
  },
  {
   "cell_type": "code",
   "execution_count": null,
   "metadata": {},
   "outputs": [],
   "source": [
    "palette = {\n",
    "    'ORANGE': 'orange',\n",
    "    'WHITE': 'wheat',\n",
    "}\n",
    "# We need the encoded Item Size column to use it as the x-axis values in the plot\n",
    "pumpkins['Item Size'] = encoded_pumpkins['ord__Item Size']\n",
    "\n",
    "g = sns.catplot(\n",
    "    data=pumpkins,\n",
    "    x=\"Item Size\", y=\"Color\", row='Variety',\n",
    "    kind=\"box\", orient=\"h\",\n",
    "    sharex=False, margin_titles=True,\n",
    "    height=1.5, aspect=4, palette=palette,\n",
    ")\n",
    "# Defining axis labels \n",
    "g.set(xlabel=\"Item Size\", ylabel=\"\").set(xlim=(0,6))\n",
    "g.set_titles(row_template=\"{row_name}\")\n"
   ]
  },
  {
   "attachments": {},
   "cell_type": "markdown",
   "metadata": {},
   "source": [
    "Let's now focus on a specific relationship: Item Size and Color!"
   ]
  },
  {
   "cell_type": "code",
   "execution_count": null,
   "metadata": {},
   "outputs": [],
   "source": [
    "palette = {\n",
    "    '0': 'orange',\n",
    "    '1': 'wheat'\n",
    "}\n",
    "sns.swarmplot(x=\"Color\", y=\"ord__Item Size\", data=encoded_pumpkins, palette=palette)"
   ]
  },
  {
   "attachments": {},
   "cell_type": "markdown",
   "metadata": {},
   "source": [
    "# Build your model"
   ]
  },
  {
   "cell_type": "code",
   "execution_count": null,
   "metadata": {},
   "outputs": [],
   "source": [
    "from sklearn.model_selection import train_test_split\n",
    "# X is the encoded features\n",
    "X = encoded_pumpkins[encoded_pumpkins.columns.difference(['Color'])]\n",
    "# y is the encoded label\n",
    "y = encoded_pumpkins['Color']\n",
    "\n",
    "# Split the data into training and test sets\n",
    "X_train, X_test, y_train, y_test = train_test_split(X, y, test_size=0.2, random_state=0)"
   ]
  },
  {
   "cell_type": "code",
   "execution_count": null,
   "metadata": {},
   "outputs": [],
   "source": [
    "from sklearn.model_selection import train_test_split\n",
    "from sklearn.metrics import f1_score, classification_report \n",
    "from sklearn.linear_model import LogisticRegression\n",
    "\n",
    "# Train a logistic regression model on the pumpkin dataset\n",
    "model = LogisticRegression()\n",
    "model.fit(X_train, y_train)\n",
    "predictions = model.predict(X_test)\n",
    "\n",
    "# Evaluate the model and print the results\n",
    "print(classification_report(y_test, predictions))\n",
    "print('Predicted labels: ', predictions)\n",
    "print('F1-score: ', f1_score(y_test, predictions))"
   ]
  },
  {
   "cell_type": "code",
   "execution_count": null,
   "metadata": {},
   "outputs": [],
   "source": [
    "from sklearn.metrics import confusion_matrix\n",
    "confusion_matrix(y_test, predictions)"
   ]
  },
  {
   "cell_type": "code",
   "execution_count": null,
   "metadata": {},
   "outputs": [],
   "source": [
    "from sklearn.metrics import roc_curve, roc_auc_score\n",
    "import matplotlib\n",
    "import matplotlib.pyplot as plt\n",
    "%matplotlib inline\n",
    "\n",
    "y_scores = model.predict_proba(X_test)\n",
    "# calculate ROC curve\n",
    "fpr, tpr, thresholds = roc_curve(y_test, y_scores[:,1])\n",
    "\n",
    "# plot ROC curve\n",
    "fig = plt.figure(figsize=(6, 6))\n",
    "# Plot the diagonal 50% line\n",
    "plt.plot([0, 1], [0, 1], 'k--')\n",
    "# Plot the FPR and TPR achieved by our model\n",
    "plt.plot(fpr, tpr)\n",
    "plt.xlabel('False Positive Rate')\n",
    "plt.ylabel('True Positive Rate')\n",
    "plt.title('ROC Curve')\n",
    "plt.show()"
   ]
  },
  {
   "cell_type": "code",
   "execution_count": null,
   "metadata": {},
   "outputs": [],
   "source": [
    "# Calculate AUC score\n",
    "auc = roc_auc_score(y_test,y_scores[:,1])\n",
    "print(auc)"
   ]
  }
 ],
 "metadata": {
  "kernelspec": {
   "display_name": "Python 3",
   "language": "python",
   "name": "python3"
  },
  "language_info": {
   "codemirror_mode": {
    "name": "ipython",
    "version": 3
   },
   "file_extension": ".py",
   "mimetype": "text/x-python",
   "name": "python",
   "nbconvert_exporter": "python",
   "pygments_lexer": "ipython3",
   "version": "3.10.10"
  },
  "metadata": {
   "interpreter": {
    "hash": "70b38d7a306a849643e446cd70466270a13445e5987dfa1344ef2b127438fa4d"
   }
  },
  "orig_nbformat": 2,
  "vscode": {
   "interpreter": {
    "hash": "949777d72b0d2535278d3dc13498b2535136f6dfe0678499012e853ee9abcab1"
   }
  }
 },
 "nbformat": 4,
 "nbformat_minor": 2
}
